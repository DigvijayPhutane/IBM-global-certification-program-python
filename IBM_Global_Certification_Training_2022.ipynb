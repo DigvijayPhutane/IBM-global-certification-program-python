{
  "nbformat": 4,
  "nbformat_minor": 0,
  "metadata": {
    "colab": {
      "name": "IBM_Global_Certification_Training_2022.ipynb",
      "provenance": [],
      "collapsed_sections": [],
      "authorship_tag": "ABX9TyNYMti8Wdptaff/DV0xTUy8",
      "include_colab_link": true
    },
    "kernelspec": {
      "name": "python3",
      "display_name": "Python 3"
    },
    "language_info": {
      "name": "python"
    }
  },
  "cells": [
    {
      "cell_type": "markdown",
      "metadata": {
        "id": "view-in-github",
        "colab_type": "text"
      },
      "source": [
        "<a href=\"https://colab.research.google.com/github/DigvijayPhutane/IBM-global-certification-program-python/blob/main/IBM_Global_Certification_Training_2022.ipynb\" target=\"_parent\"><img src=\"https://colab.research.google.com/assets/colab-badge.svg\" alt=\"Open In Colab\"/></a>"
      ]
    },
    {
      "cell_type": "markdown",
      "source": [
        "IBM CERTIFICATION TRAINING PROGRAM\n"
      ],
      "metadata": {
        "id": "nC7IdNy2IIWZ"
      }
    },
    {
      "cell_type": "code",
      "source": [
        "print(\"hello world\") #IBM training 2022 global certification program."
      ],
      "metadata": {
        "colab": {
          "base_uri": "https://localhost:8080/"
        },
        "id": "wj9XdHUxIehO",
        "outputId": "ca2cb45c-263a-492c-ba2e-bd1ddf8fc885"
      },
      "execution_count": 4,
      "outputs": [
        {
          "output_type": "stream",
          "name": "stdout",
          "text": [
            "hello world \n"
          ]
        }
      ]
    }
  ]
}